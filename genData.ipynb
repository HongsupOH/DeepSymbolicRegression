{
 "cells": [
  {
   "cell_type": "code",
   "execution_count": 380,
   "id": "56807d61",
   "metadata": {},
   "outputs": [],
   "source": [
    "import torch\n",
    "import numpy as np\n",
    "import os\n",
    "import sys"
   ]
  },
  {
   "cell_type": "code",
   "execution_count": 381,
   "id": "39d37abc",
   "metadata": {},
   "outputs": [],
   "source": [
    "n = 20\n",
    "\n",
    "ele = ele = np.linspace(-10,10,n)\n",
    "x_0 = np.kron(ele,np.ones(len(ele)))\n",
    "x_1 = np.kron(np.ones(len(ele)),ele)"
   ]
  },
  {
   "cell_type": "code",
   "execution_count": 382,
   "id": "b912e27b",
   "metadata": {},
   "outputs": [],
   "source": [
    "data_dict = {}\n",
    "\n",
    "data_dict['idx_to_op'] = ['<NULL>','<START>','<END>','+','-','*','/','c','x_0','x_1']\n",
    "data_dict['opt_to_idx'] = {'<NULL>':0,'<START>':1,'<END>':2,'+':3,'-':4,'*':5,'/':6,'c':7,'x_0':8,'x_1':9}"
   ]
  },
  {
   "cell_type": "code",
   "execution_count": 383,
   "id": "2fe00b70",
   "metadata": {},
   "outputs": [],
   "source": [
    "data_dict['train_vals'] = np.array([x_0 + x_1,\n",
    "                                  2.423*x_1 - x_0])"
   ]
  },
  {
   "cell_type": "code",
   "execution_count": 384,
   "id": "f47f1292",
   "metadata": {},
   "outputs": [],
   "source": [
    "data_dict['train_captions'] = np.array([2,7,8,])"
   ]
  },
  {
   "cell_type": "code",
   "execution_count": 385,
   "id": "46816702",
   "metadata": {},
   "outputs": [],
   "source": [
    "class node():\n",
    "    def __init__(self,op):\n",
    "        self.op = op\n",
    "        self.left = None\n",
    "        self.right = None"
   ]
  },
  {
   "cell_type": "code",
   "execution_count": 386,
   "id": "45cd2843",
   "metadata": {},
   "outputs": [],
   "source": [
    "class Tree():\n",
    "    def __init__(self,complexity):\n",
    "        self.complexity = complexity\n",
    "        self.root = None\n",
    "        "
   ]
  },
  {
   "cell_type": "code",
   "execution_count": 387,
   "id": "3bea76bd",
   "metadata": {},
   "outputs": [],
   "source": [
    "def GenOperator(OpTree,complexity,root,nodes):\n",
    "    \n",
    "    print('Node:{}'.format(root.op))\n",
    "    if len(nodes) >= complexity:\n",
    "        return\n",
    "    \n",
    "    if root.op>=7:\n",
    "        \n",
    "        return\n",
    "    \n",
    "    else:\n",
    "        \n",
    "        op1 = np.random.choice([3,4,5,6,7,8,9],1)[0]\n",
    "        nodes.append(op1)\n",
    "        LeftNode = node(op1)\n",
    "        root.left = LeftNode\n",
    "\n",
    "        op2 = np.random.choice([3,4,5,6,7,8,9],1)[0]\n",
    "        nodes.append(op2)\n",
    "        RightNode = node(op2)\n",
    "        root.right = RightNode\n",
    "\n",
    "        GenOperator(OpTree,complexity,LeftNode,nodes)\n",
    "        GenOperator(OpTree,complexity,RightNode,nodes)\n",
    "        \n",
    "        \n",
    "   "
   ]
  },
  {
   "cell_type": "code",
   "execution_count": 388,
   "id": "b9bf17b2",
   "metadata": {},
   "outputs": [],
   "source": [
    "def organizeTree(OpTree):\n",
    "    root = OpTree.root\n",
    "    queue = [root]\n",
    "    \n",
    "    while len(queue)>0:\n",
    "        \n",
    "        cur_node = queue.pop(0)\n",
    "        print(cur_node.op,data_dict['idx_to_op'][cur_node.op])\n",
    "        left = cur_node.left\n",
    "        right = cur_node.right\n",
    "        \n",
    "        if left!=None and right!=None:\n",
    "            queue.append(left)\n",
    "            queue.append(right)\n",
    "            if cur_node.op>=7:\n",
    "                op = np.random.choice([3,4,5,6],1)[0]\n",
    "                cur_node.op = op     \n",
    "        else:\n",
    "            if cur_node.op < 7:\n",
    "                op = np.random.choice([7,8,9],1)[0]\n",
    "                cur_node.op = op\n"
   ]
  },
  {
   "cell_type": "code",
   "execution_count": 389,
   "id": "b31656c7",
   "metadata": {},
   "outputs": [],
   "source": [
    "def evaluateExpressionTree(root):\n",
    "\n",
    "    if root is None:\n",
    "        return 0\n",
    " \n",
    "    if root.left is None and root.right is None:\n",
    "        if root.op == 7:\n",
    "            return np.random.rand()*10\n",
    "        elif root.op ==8:\n",
    "            return x_0\n",
    "        elif root.op ==9:\n",
    "            return x_1\n",
    "        \n",
    "    # evaluate left tree\n",
    "    left_sum = evaluateExpressionTree(root.left)\n",
    " \n",
    "    # evaluate right tree\n",
    "    right_sum = evaluateExpressionTree(root.right)\n",
    " \n",
    "    # check which operation to apply\n",
    "    if root.op == 3:\n",
    "        return left_sum + right_sum\n",
    " \n",
    "    elif root.op == 4:\n",
    "        return left_sum - right_sum\n",
    " \n",
    "    elif root.op == 5:\n",
    "        return left_sum * right_sum\n",
    " \n",
    "    elif root.op == 6:\n",
    "        return left_sum / right_sum\n",
    "    "
   ]
  },
  {
   "cell_type": "code",
   "execution_count": 390,
   "id": "f14bbbf3",
   "metadata": {},
   "outputs": [],
   "source": [
    "def bfs(OpTree):\n",
    "    root = OpTree.root\n",
    "    queue = [root]\n",
    "    \n",
    "    while len(queue)>0:\n",
    "        \n",
    "        cur_node = queue.pop(0)\n",
    "        print(cur_node.op,data_dict['idx_to_op'][cur_node.op])\n",
    "        left = cur_node.left\n",
    "        right = cur_node.right\n",
    "        \n",
    "        if left!=None and right!=None:\n",
    "            queue.append(left)\n",
    "            queue.append(right)\n",
    "            "
   ]
  },
  {
   "cell_type": "code",
   "execution_count": 391,
   "id": "2da30867",
   "metadata": {},
   "outputs": [],
   "source": [
    "def preorder(root):\n",
    "    \n",
    "    if root:\n",
    "       \n",
    "        print(root.op, data_dict['idx_to_op'][root.op])\n",
    "        preorder(root.left)\n",
    "        preorder(root.right)"
   ]
  },
  {
   "cell_type": "code",
   "execution_count": 392,
   "id": "b8f385e4",
   "metadata": {},
   "outputs": [
    {
     "name": "stdout",
     "output_type": "stream",
     "text": [
      "Node:4\n",
      "Node:3\n",
      "Node:4\n",
      "Node:9\n",
      "Node:3\n",
      "Node:8\n",
      "Node:8\n"
     ]
    }
   ],
   "source": [
    "complexity = 7\n",
    "\n",
    "OpTree = Tree(complexity)\n",
    "op = np.random.choice([3,4,5,6,7,8,9],1)[0]\n",
    "curNode = node(op)\n",
    "OpTree.root = curNode\n",
    "nodes = [op]\n",
    "\n",
    "GenOperator(OpTree,complexity,OpTree.root,nodes)"
   ]
  },
  {
   "cell_type": "code",
   "execution_count": 393,
   "id": "8abfd822",
   "metadata": {},
   "outputs": [
    {
     "data": {
      "text/plain": [
       "[4, 3, 8, 4, 8, 9, 3]"
      ]
     },
     "execution_count": 393,
     "metadata": {},
     "output_type": "execute_result"
    }
   ],
   "source": [
    "nodes"
   ]
  },
  {
   "cell_type": "code",
   "execution_count": 394,
   "id": "d9ff1860",
   "metadata": {},
   "outputs": [
    {
     "name": "stdout",
     "output_type": "stream",
     "text": [
      "4 -\n",
      "3 +\n",
      "8 x_0\n",
      "4 -\n",
      "8 x_0\n",
      "9 x_1\n",
      "3 +\n"
     ]
    }
   ],
   "source": [
    "organizeTree(OpTree)"
   ]
  },
  {
   "cell_type": "code",
   "execution_count": 395,
   "id": "69672196",
   "metadata": {},
   "outputs": [
    {
     "name": "stdout",
     "output_type": "stream",
     "text": [
      "4 -\n",
      "3 +\n",
      "8 x_0\n",
      "4 -\n",
      "8 x_0\n",
      "9 x_1\n",
      "9 x_1\n"
     ]
    }
   ],
   "source": [
    "bfs(OpTree)"
   ]
  },
  {
   "cell_type": "code",
   "execution_count": 396,
   "id": "62d3f64b",
   "metadata": {},
   "outputs": [
    {
     "name": "stdout",
     "output_type": "stream",
     "text": [
      "4 -\n",
      "3 +\n",
      "4 -\n",
      "9 x_1\n",
      "9 x_1\n",
      "8 x_0\n",
      "8 x_0\n"
     ]
    }
   ],
   "source": [
    "root = OpTree.root\n",
    "preorder(root)"
   ]
  },
  {
   "cell_type": "code",
   "execution_count": 397,
   "id": "90fb84ca",
   "metadata": {},
   "outputs": [
    {
     "data": {
      "text/plain": [
       "array([0., 0., 0., 0., 0., 0., 0., 0., 0., 0., 0., 0., 0., 0., 0., 0., 0.,\n",
       "       0., 0., 0., 0., 0., 0., 0., 0., 0., 0., 0., 0., 0., 0., 0., 0., 0.,\n",
       "       0., 0., 0., 0., 0., 0., 0., 0., 0., 0., 0., 0., 0., 0., 0., 0., 0.,\n",
       "       0., 0., 0., 0., 0., 0., 0., 0., 0., 0., 0., 0., 0., 0., 0., 0., 0.,\n",
       "       0., 0., 0., 0., 0., 0., 0., 0., 0., 0., 0., 0., 0., 0., 0., 0., 0.,\n",
       "       0., 0., 0., 0., 0., 0., 0., 0., 0., 0., 0., 0., 0., 0., 0., 0., 0.,\n",
       "       0., 0., 0., 0., 0., 0., 0., 0., 0., 0., 0., 0., 0., 0., 0., 0., 0.,\n",
       "       0., 0., 0., 0., 0., 0., 0., 0., 0., 0., 0., 0., 0., 0., 0., 0., 0.,\n",
       "       0., 0., 0., 0., 0., 0., 0., 0., 0., 0., 0., 0., 0., 0., 0., 0., 0.,\n",
       "       0., 0., 0., 0., 0., 0., 0., 0., 0., 0., 0., 0., 0., 0., 0., 0., 0.,\n",
       "       0., 0., 0., 0., 0., 0., 0., 0., 0., 0., 0., 0., 0., 0., 0., 0., 0.,\n",
       "       0., 0., 0., 0., 0., 0., 0., 0., 0., 0., 0., 0., 0., 0., 0., 0., 0.,\n",
       "       0., 0., 0., 0., 0., 0., 0., 0., 0., 0., 0., 0., 0., 0., 0., 0., 0.,\n",
       "       0., 0., 0., 0., 0., 0., 0., 0., 0., 0., 0., 0., 0., 0., 0., 0., 0.,\n",
       "       0., 0., 0., 0., 0., 0., 0., 0., 0., 0., 0., 0., 0., 0., 0., 0., 0.,\n",
       "       0., 0., 0., 0., 0., 0., 0., 0., 0., 0., 0., 0., 0., 0., 0., 0., 0.,\n",
       "       0., 0., 0., 0., 0., 0., 0., 0., 0., 0., 0., 0., 0., 0., 0., 0., 0.,\n",
       "       0., 0., 0., 0., 0., 0., 0., 0., 0., 0., 0., 0., 0., 0., 0., 0., 0.,\n",
       "       0., 0., 0., 0., 0., 0., 0., 0., 0., 0., 0., 0., 0., 0., 0., 0., 0.,\n",
       "       0., 0., 0., 0., 0., 0., 0., 0., 0., 0., 0., 0., 0., 0., 0., 0., 0.,\n",
       "       0., 0., 0., 0., 0., 0., 0., 0., 0., 0., 0., 0., 0., 0., 0., 0., 0.,\n",
       "       0., 0., 0., 0., 0., 0., 0., 0., 0., 0., 0., 0., 0., 0., 0., 0., 0.,\n",
       "       0., 0., 0., 0., 0., 0., 0., 0., 0., 0., 0., 0., 0., 0., 0., 0., 0.,\n",
       "       0., 0., 0., 0., 0., 0., 0., 0., 0.])"
      ]
     },
     "execution_count": 397,
     "metadata": {},
     "output_type": "execute_result"
    }
   ],
   "source": [
    "root = OpTree.root\n",
    "evaluateExpressionTree(root)"
   ]
  },
  {
   "cell_type": "code",
   "execution_count": null,
   "id": "4951da74",
   "metadata": {},
   "outputs": [],
   "source": []
  },
  {
   "cell_type": "code",
   "execution_count": null,
   "id": "cadc2412",
   "metadata": {},
   "outputs": [],
   "source": []
  }
 ],
 "metadata": {
  "kernelspec": {
   "display_name": "Python 3 (ipykernel)",
   "language": "python",
   "name": "python3"
  },
  "language_info": {
   "codemirror_mode": {
    "name": "ipython",
    "version": 3
   },
   "file_extension": ".py",
   "mimetype": "text/x-python",
   "name": "python",
   "nbconvert_exporter": "python",
   "pygments_lexer": "ipython3",
   "version": "3.9.13"
  }
 },
 "nbformat": 4,
 "nbformat_minor": 5
}
